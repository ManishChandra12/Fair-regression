{
 "cells": [
  {
   "cell_type": "code",
   "execution_count": 1,
   "metadata": {},
   "outputs": [],
   "source": [
    "import numpy as np\n",
    "import pandas as pd\n",
    "import matplotlib.pyplot as plt\n",
    "import seaborn as sns\n",
    "%matplotlib inline"
   ]
  },
  {
   "cell_type": "code",
   "execution_count": 2,
   "metadata": {},
   "outputs": [
    {
     "name": "stdout",
     "output_type": "stream",
     "text": [
      "<class 'pandas.core.frame.DataFrame'>\n",
      "Int64Index: 3377 entries, 1 to 4742\n",
      "Data columns (total 51 columns):\n",
      " #   Column                   Non-Null Count  Dtype  \n",
      "---  ------                   --------------  -----  \n",
      " 0   id                       3377 non-null   int64  \n",
      " 1   name                     3377 non-null   object \n",
      " 2   first                    3377 non-null   object \n",
      " 3   last                     3377 non-null   object \n",
      " 4   compas_screening_date    3377 non-null   object \n",
      " 5   sex                      3377 non-null   object \n",
      " 6   dob                      3377 non-null   object \n",
      " 7   age                      3377 non-null   int64  \n",
      " 8   age_cat                  3377 non-null   object \n",
      " 9   race                     3377 non-null   object \n",
      " 10  juv_fel_count            3377 non-null   int64  \n",
      " 11  juv_misd_count           3377 non-null   int64  \n",
      " 12  juv_other_count          3377 non-null   int64  \n",
      " 13  priors_count             3377 non-null   int64  \n",
      " 14  days_b_screening_arrest  3377 non-null   float64\n",
      " 15  c_jail_in                3377 non-null   object \n",
      " 16  c_jail_out               3377 non-null   object \n",
      " 17  c_case_number            3377 non-null   object \n",
      " 18  c_offense_date           2922 non-null   object \n",
      " 19  c_arrest_date            455 non-null    object \n",
      " 20  c_days_from_compas       3377 non-null   float64\n",
      " 21  c_charge_degree          3377 non-null   object \n",
      " 22  c_charge_desc            3372 non-null   object \n",
      " 23  is_recid                 3377 non-null   int64  \n",
      " 24  r_case_number            742 non-null    object \n",
      " 25  r_charge_degree          742 non-null    object \n",
      " 26  r_days_from_arrest       513 non-null    float64\n",
      " 27  r_offense_date           742 non-null    object \n",
      " 28  r_charge_desc            726 non-null    object \n",
      " 29  r_jail_in                513 non-null    object \n",
      " 30  r_jail_out               513 non-null    object \n",
      " 31  violent_recid            0 non-null      float64\n",
      " 32  is_violent_recid         3377 non-null   int64  \n",
      " 33  vr_case_number           612 non-null    object \n",
      " 34  vr_charge_degree         612 non-null    object \n",
      " 35  vr_offense_date          612 non-null    object \n",
      " 36  vr_charge_desc           612 non-null    object \n",
      " 37  type_of_assessment       3377 non-null   object \n",
      " 38  decile_score             3377 non-null   int64  \n",
      " 39  score_text               3373 non-null   object \n",
      " 40  screening_date           3377 non-null   object \n",
      " 41  v_type_of_assessment     3377 non-null   object \n",
      " 42  v_decile_score           3377 non-null   int64  \n",
      " 43  v_score_text             3377 non-null   object \n",
      " 44  v_screening_date         3377 non-null   object \n",
      " 45  in_custody               3377 non-null   object \n",
      " 46  out_custody              3377 non-null   object \n",
      " 47  start                    3377 non-null   int64  \n",
      " 48  end                      3377 non-null   int64  \n",
      " 49  event                    3377 non-null   int64  \n",
      " 50  two_year_recid           3377 non-null   int64  \n",
      "dtypes: float64(4), int64(14), object(33)\n",
      "memory usage: 1.3+ MB\n"
     ]
    }
   ],
   "source": [
    "df = pd.read_csv('/home/manish/Sem II/AI and Ethics/Term Assignment/Fair-regression/data/raw/COMPAS/compas-scores-two-years-violent.csv')\n",
    "idx = (df['days_b_screening_arrest'] <= 30) & (df['days_b_screening_arrest'] >= -30) & (df['c_charge_degree'] != \"O\") & (df['v_score_text'] != 'N/A')\n",
    "df = df[idx]\n",
    "i = (df['race'] == 'African-American') | (df['race'] == 'Caucasian')\n",
    "df = df[i]\n",
    "df.info()"
   ]
  },
  {
   "cell_type": "code",
   "execution_count": 3,
   "metadata": {},
   "outputs": [
    {
     "data": {
      "text/plain": [
       "True"
      ]
     },
     "execution_count": 3,
     "metadata": {},
     "output_type": "execute_result"
    }
   ],
   "source": [
    "df.isnull().values.any()"
   ]
  },
  {
   "cell_type": "code",
   "execution_count": 4,
   "metadata": {},
   "outputs": [
    {
     "data": {
      "text/html": [
       "<div>\n",
       "<style scoped>\n",
       "    .dataframe tbody tr th:only-of-type {\n",
       "        vertical-align: middle;\n",
       "    }\n",
       "\n",
       "    .dataframe tbody tr th {\n",
       "        vertical-align: top;\n",
       "    }\n",
       "\n",
       "    .dataframe thead th {\n",
       "        text-align: right;\n",
       "    }\n",
       "</style>\n",
       "<table border=\"1\" class=\"dataframe\">\n",
       "  <thead>\n",
       "    <tr style=\"text-align: right;\">\n",
       "      <th></th>\n",
       "      <th>race</th>\n",
       "      <th>age</th>\n",
       "      <th>sex</th>\n",
       "      <th>priors_count</th>\n",
       "      <th>v_decile_score</th>\n",
       "      <th>v_score_text</th>\n",
       "      <th>is_violent_recid</th>\n",
       "    </tr>\n",
       "  </thead>\n",
       "  <tbody>\n",
       "    <tr>\n",
       "      <th>1</th>\n",
       "      <td>African-American</td>\n",
       "      <td>34</td>\n",
       "      <td>Male</td>\n",
       "      <td>0</td>\n",
       "      <td>1</td>\n",
       "      <td>Low</td>\n",
       "      <td>1</td>\n",
       "    </tr>\n",
       "    <tr>\n",
       "      <th>6</th>\n",
       "      <td>Caucasian</td>\n",
       "      <td>39</td>\n",
       "      <td>Female</td>\n",
       "      <td>0</td>\n",
       "      <td>1</td>\n",
       "      <td>Low</td>\n",
       "      <td>0</td>\n",
       "    </tr>\n",
       "    <tr>\n",
       "      <th>8</th>\n",
       "      <td>Caucasian</td>\n",
       "      <td>27</td>\n",
       "      <td>Male</td>\n",
       "      <td>0</td>\n",
       "      <td>4</td>\n",
       "      <td>Low</td>\n",
       "      <td>0</td>\n",
       "    </tr>\n",
       "    <tr>\n",
       "      <th>9</th>\n",
       "      <td>Caucasian</td>\n",
       "      <td>37</td>\n",
       "      <td>Female</td>\n",
       "      <td>0</td>\n",
       "      <td>1</td>\n",
       "      <td>Low</td>\n",
       "      <td>0</td>\n",
       "    </tr>\n",
       "    <tr>\n",
       "      <th>10</th>\n",
       "      <td>African-American</td>\n",
       "      <td>41</td>\n",
       "      <td>Male</td>\n",
       "      <td>0</td>\n",
       "      <td>2</td>\n",
       "      <td>Low</td>\n",
       "      <td>0</td>\n",
       "    </tr>\n",
       "  </tbody>\n",
       "</table>\n",
       "</div>"
      ],
      "text/plain": [
       "                race  age     sex  priors_count  v_decile_score v_score_text  \\\n",
       "1   African-American   34    Male             0               1          Low   \n",
       "6          Caucasian   39  Female             0               1          Low   \n",
       "8          Caucasian   27    Male             0               4          Low   \n",
       "9          Caucasian   37  Female             0               1          Low   \n",
       "10  African-American   41    Male             0               2          Low   \n",
       "\n",
       "    is_violent_recid  \n",
       "1                  1  \n",
       "6                  0  \n",
       "8                  0  \n",
       "9                  0  \n",
       "10                 0  "
      ]
     },
     "execution_count": 4,
     "metadata": {},
     "output_type": "execute_result"
    }
   ],
   "source": [
    "df = df[['race', 'age', 'sex', 'priors_count', 'v_decile_score', 'v_score_text', 'is_violent_recid']]\n",
    "df = df.dropna()\n",
    "df.head()"
   ]
  },
  {
   "cell_type": "code",
   "execution_count": 5,
   "metadata": {},
   "outputs": [
    {
     "data": {
      "text/plain": [
       "<matplotlib.axes._subplots.AxesSubplot at 0x7feeb1e3a5f8>"
      ]
     },
     "execution_count": 5,
     "metadata": {},
     "output_type": "execute_result"
    },
    {
     "data": {
      "image/png": "[encoded data removed]",
      "text/plain": [
       "<Figure size 432x288 with 2 Axes>"
      ]
     },
     "metadata": {
      "needs_background": "light"
     },
     "output_type": "display_data"
    }
   ],
   "source": [
    "sns.heatmap(df.isnull())"
   ]
  },
  {
   "cell_type": "code",
   "execution_count": 6,
   "metadata": {},
   "outputs": [],
   "source": [
    "race = pd.get_dummies(df['race'])\n",
    "sex = pd.get_dummies(df['sex'])\n",
    "v_decile_score = pd.get_dummies(df['v_decile_score'], prefix=\"score\")\n",
    "v_score_text = pd.get_dummies(df['v_score_text'])"
   ]
  },
  {
   "cell_type": "code",
   "execution_count": 7,
   "metadata": {},
   "outputs": [],
   "source": [
    "df.drop(['race', 'sex','v_decile_score', 'v_score_text'], axis=1, inplace=True)"
   ]
  },
  {
   "cell_type": "code",
   "execution_count": 8,
   "metadata": {},
   "outputs": [],
   "source": [
    "df = pd.concat([df, race, sex, v_decile_score, v_score_text], axis=1)"
   ]
  },
  {
   "cell_type": "code",
   "execution_count": 9,
   "metadata": {},
   "outputs": [
    {
     "name": "stdout",
     "output_type": "stream",
     "text": [
      "<class 'pandas.core.frame.DataFrame'>\n",
      "Int64Index: 3377 entries, 1 to 4742\n",
      "Data columns (total 20 columns):\n",
      " #   Column            Non-Null Count  Dtype\n",
      "---  ------            --------------  -----\n",
      " 0   age               3377 non-null   int64\n",
      " 1   priors_count      3377 non-null   int64\n",
      " 2   is_violent_recid  3377 non-null   int64\n",
      " 3   African-American  3377 non-null   uint8\n",
      " 4   Caucasian         3377 non-null   uint8\n",
      " 5   Female            3377 non-null   uint8\n",
      " 6   Male              3377 non-null   uint8\n",
      " 7   score_1           3377 non-null   uint8\n",
      " 8   score_2           3377 non-null   uint8\n",
      " 9   score_3           3377 non-null   uint8\n",
      " 10  score_4           3377 non-null   uint8\n",
      " 11  score_5           3377 non-null   uint8\n",
      " 12  score_6           3377 non-null   uint8\n",
      " 13  score_7           3377 non-null   uint8\n",
      " 14  score_8           3377 non-null   uint8\n",
      " 15  score_9           3377 non-null   uint8\n",
      " 16  score_10          3377 non-null   uint8\n",
      " 17  High              3377 non-null   uint8\n",
      " 18  Low               3377 non-null   uint8\n",
      " 19  Medium            3377 non-null   uint8\n",
      "dtypes: int64(3), uint8(17)\n",
      "memory usage: 161.6 KB\n"
     ]
    }
   ],
   "source": [
    "df.info()"
   ]
  },
  {
   "cell_type": "code",
   "execution_count": 10,
   "metadata": {},
   "outputs": [
    {
     "data": {
      "text/html": [
       "<div>\n",
       "<style scoped>\n",
       "    .dataframe tbody tr th:only-of-type {\n",
       "        vertical-align: middle;\n",
       "    }\n",
       "\n",
       "    .dataframe tbody tr th {\n",
       "        vertical-align: top;\n",
       "    }\n",
       "\n",
       "    .dataframe thead th {\n",
       "        text-align: right;\n",
       "    }\n",
       "</style>\n",
       "<table border=\"1\" class=\"dataframe\">\n",
       "  <thead>\n",
       "    <tr style=\"text-align: right;\">\n",
       "      <th></th>\n",
       "      <th>age</th>\n",
       "      <th>priors_count</th>\n",
       "      <th>is_violent_recid</th>\n",
       "      <th>African-American</th>\n",
       "      <th>Caucasian</th>\n",
       "      <th>Female</th>\n",
       "      <th>Male</th>\n",
       "      <th>score_1</th>\n",
       "      <th>score_2</th>\n",
       "      <th>score_3</th>\n",
       "      <th>score_4</th>\n",
       "      <th>score_5</th>\n",
       "      <th>score_6</th>\n",
       "      <th>score_7</th>\n",
       "      <th>score_8</th>\n",
       "      <th>score_9</th>\n",
       "      <th>score_10</th>\n",
       "      <th>High</th>\n",
       "      <th>Low</th>\n",
       "      <th>Medium</th>\n",
       "    </tr>\n",
       "  </thead>\n",
       "  <tbody>\n",
       "    <tr>\n",
       "      <th>1</th>\n",
       "      <td>34</td>\n",
       "      <td>0</td>\n",
       "      <td>1</td>\n",
       "      <td>1</td>\n",
       "      <td>0</td>\n",
       "      <td>0</td>\n",
       "      <td>1</td>\n",
       "      <td>1</td>\n",
       "      <td>0</td>\n",
       "      <td>0</td>\n",
       "      <td>0</td>\n",
       "      <td>0</td>\n",
       "      <td>0</td>\n",
       "      <td>0</td>\n",
       "      <td>0</td>\n",
       "      <td>0</td>\n",
       "      <td>0</td>\n",
       "      <td>0</td>\n",
       "      <td>1</td>\n",
       "      <td>0</td>\n",
       "    </tr>\n",
       "    <tr>\n",
       "      <th>6</th>\n",
       "      <td>39</td>\n",
       "      <td>0</td>\n",
       "      <td>0</td>\n",
       "      <td>0</td>\n",
       "      <td>1</td>\n",
       "      <td>1</td>\n",
       "      <td>0</td>\n",
       "      <td>1</td>\n",
       "      <td>0</td>\n",
       "      <td>0</td>\n",
       "      <td>0</td>\n",
       "      <td>0</td>\n",
       "      <td>0</td>\n",
       "      <td>0</td>\n",
       "      <td>0</td>\n",
       "      <td>0</td>\n",
       "      <td>0</td>\n",
       "      <td>0</td>\n",
       "      <td>1</td>\n",
       "      <td>0</td>\n",
       "    </tr>\n",
       "    <tr>\n",
       "      <th>8</th>\n",
       "      <td>27</td>\n",
       "      <td>0</td>\n",
       "      <td>0</td>\n",
       "      <td>0</td>\n",
       "      <td>1</td>\n",
       "      <td>0</td>\n",
       "      <td>1</td>\n",
       "      <td>0</td>\n",
       "      <td>0</td>\n",
       "      <td>0</td>\n",
       "      <td>1</td>\n",
       "      <td>0</td>\n",
       "      <td>0</td>\n",
       "      <td>0</td>\n",
       "      <td>0</td>\n",
       "      <td>0</td>\n",
       "      <td>0</td>\n",
       "      <td>0</td>\n",
       "      <td>1</td>\n",
       "      <td>0</td>\n",
       "    </tr>\n",
       "    <tr>\n",
       "      <th>9</th>\n",
       "      <td>37</td>\n",
       "      <td>0</td>\n",
       "      <td>0</td>\n",
       "      <td>0</td>\n",
       "      <td>1</td>\n",
       "      <td>1</td>\n",
       "      <td>0</td>\n",
       "      <td>1</td>\n",
       "      <td>0</td>\n",
       "      <td>0</td>\n",
       "      <td>0</td>\n",
       "      <td>0</td>\n",
       "      <td>0</td>\n",
       "      <td>0</td>\n",
       "      <td>0</td>\n",
       "      <td>0</td>\n",
       "      <td>0</td>\n",
       "      <td>0</td>\n",
       "      <td>1</td>\n",
       "      <td>0</td>\n",
       "    </tr>\n",
       "    <tr>\n",
       "      <th>10</th>\n",
       "      <td>41</td>\n",
       "      <td>0</td>\n",
       "      <td>0</td>\n",
       "      <td>1</td>\n",
       "      <td>0</td>\n",
       "      <td>0</td>\n",
       "      <td>1</td>\n",
       "      <td>0</td>\n",
       "      <td>1</td>\n",
       "      <td>0</td>\n",
       "      <td>0</td>\n",
       "      <td>0</td>\n",
       "      <td>0</td>\n",
       "      <td>0</td>\n",
       "      <td>0</td>\n",
       "      <td>0</td>\n",
       "      <td>0</td>\n",
       "      <td>0</td>\n",
       "      <td>1</td>\n",
       "      <td>0</td>\n",
       "    </tr>\n",
       "  </tbody>\n",
       "</table>\n",
       "</div>"
      ],
      "text/plain": [
       "    age  priors_count  is_violent_recid  African-American  Caucasian  Female  \\\n",
       "1    34             0                 1                 1          0       0   \n",
       "6    39             0                 0                 0          1       1   \n",
       "8    27             0                 0                 0          1       0   \n",
       "9    37             0                 0                 0          1       1   \n",
       "10   41             0                 0                 1          0       0   \n",
       "\n",
       "    Male  score_1  score_2  score_3  score_4  score_5  score_6  score_7  \\\n",
       "1      1        1        0        0        0        0        0        0   \n",
       "6      0        1        0        0        0        0        0        0   \n",
       "8      1        0        0        0        1        0        0        0   \n",
       "9      0        1        0        0        0        0        0        0   \n",
       "10     1        0        1        0        0        0        0        0   \n",
       "\n",
       "    score_8  score_9  score_10  High  Low  Medium  \n",
       "1         0        0         0     0    1       0  \n",
       "6         0        0         0     0    1       0  \n",
       "8         0        0         0     0    1       0  \n",
       "9         0        0         0     0    1       0  \n",
       "10        0        0         0     0    1       0  "
      ]
     },
     "execution_count": 10,
     "metadata": {},
     "output_type": "execute_result"
    }
   ],
   "source": [
    "df.head()"
   ]
  },
  {
   "cell_type": "code",
   "execution_count": 11,
   "metadata": {},
   "outputs": [
    {
     "data": {
      "text/plain": [
       "False"
      ]
     },
     "execution_count": 11,
     "metadata": {},
     "output_type": "execute_result"
    }
   ],
   "source": [
    "df.isnull().values.any()"
   ]
  },
  {
   "cell_type": "code",
   "execution_count": 16,
   "metadata": {},
   "outputs": [
    {
     "data": {
      "text/plain": [
       "array([34, 39, 27, 37, 41, 25, 31, 21, 43, 33, 55, 29, 51, 35, 49, 53, 56,\n",
       "       40, 22, 26, 32, 30, 20, 54, 19, 52, 42, 24, 48, 62, 28, 66, 45, 23,\n",
       "       50, 44, 38, 70, 46, 58, 36, 47, 69, 60, 61, 63, 59, 65, 68, 71, 57,\n",
       "       75, 64, 72, 67, 74, 73, 80, 77, 79, 18])"
      ]
     },
     "execution_count": 16,
     "metadata": {},
     "output_type": "execute_result"
    }
   ],
   "source": [
    "df['age'].unique()"
   ]
  },
  {
   "cell_type": "code",
   "execution_count": null,
   "metadata": {},
   "outputs": [],
   "source": []
  }
 ],
 "metadata": {
  "kernelspec": {
   "display_name": "Python 3",
   "language": "python",
   "name": "python3"
  },
  "language_info": {
   "codemirror_mode": {
    "name": "ipython",
    "version": 3
   },
   "file_extension": ".py",
   "mimetype": "text/x-python",
   "name": "python",
   "nbconvert_exporter": "python",
   "pygments_lexer": "ipython3",
   "version": "3.6.9"
  }
 },
 "nbformat": 4,
 "nbformat_minor": 4
}
